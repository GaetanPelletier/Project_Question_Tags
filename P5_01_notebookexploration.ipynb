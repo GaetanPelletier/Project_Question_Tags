{
 "metadata": {
  "language_info": {
   "codemirror_mode": {
    "name": "ipython",
    "version": 3
   },
   "file_extension": ".py",
   "mimetype": "text/x-python",
   "name": "python",
   "nbconvert_exporter": "python",
   "pygments_lexer": "ipython3",
   "version": "3.8.3-final"
  },
  "orig_nbformat": 2,
  "kernelspec": {
   "name": "python3",
   "display_name": "Python 3",
   "language": "python"
  }
 },
 "nbformat": 4,
 "nbformat_minor": 2,
 "cells": [
  {
   "cell_type": "code",
   "execution_count": 1,
   "metadata": {},
   "outputs": [],
   "source": [
    "import pandas as pd\n",
    "import plotly.express as px\n",
    "from collections import Counter"
   ]
  },
  {
   "source": [
    "'''\n",
    "For the downloading of the datas (sql request),\n",
    "we chose the most recent datas.\n",
    "Besides, we are using only the ones that have score or viewcount > 0.\n",
    "The reason is to obtain datas with a \"good quality\"\n",
    "(i.e. score < 0 could be wrong tags or sentences without understandable words)\n",
    "'''"
   ],
   "cell_type": "code",
   "metadata": {},
   "execution_count": null,
   "outputs": []
  },
  {
   "cell_type": "code",
   "execution_count": 2,
   "metadata": {},
   "outputs": [],
   "source": [
    "# Load the csv files\n",
    "\n",
    "data1 = pd.read_csv('Data_projet5\\QueryResults_first_50k.csv', encoding='utf8')\n",
    "data2 = pd.read_csv('Data_projet5\\QueryResults_second_50k.csv', encoding='utf8')\n",
    "data3 = pd.read_csv('Data_projet5\\QueryResults_third_50k.csv', encoding='utf8')\n",
    "data4 = pd.read_csv('Data_projet5\\QueryResults_fourth_50k.csv', encoding='utf8')"
   ]
  },
  {
   "cell_type": "code",
   "execution_count": 3,
   "metadata": {},
   "outputs": [],
   "source": [
    "# Concat the 4 dataFrame to obtain an unique dataFrame\n",
    "\n",
    "data_full = pd.concat([data1, data2])\n",
    "data_full = pd.concat([data_full, data3])\n",
    "data_full = pd.concat([data_full, data4])\n",
    "data_full = data_full.reset_index(drop=True)"
   ]
  },
  {
   "cell_type": "code",
   "execution_count": 4,
   "metadata": {},
   "outputs": [
    {
     "output_type": "execute_result",
     "data": {
      "text/plain": [
       "(200000, 6)"
      ]
     },
     "metadata": {},
     "execution_count": 4
    }
   ],
   "source": [
    "data_full.shape"
   ]
  },
  {
   "cell_type": "code",
   "execution_count": 5,
   "metadata": {},
   "outputs": [
    {
     "output_type": "execute_result",
     "data": {
      "text/plain": [
       "          CreationDate                                               Body  \\\n",
       "0  2021-02-14 05:06:49  <p>I am a beginner in Postgres and I want to p...   \n",
       "1  2021-02-14 03:44:31  <p>So I forked public repo <a href=\"https://gi...   \n",
       "2  2021-02-14 03:32:04  <p>I have a C program that I need to interface...   \n",
       "3  2021-02-14 02:44:35  <p>I get the following error when I run the pi...   \n",
       "4  2021-02-14 02:43:28  <p>Is there a way to optimize visualization ac...   \n",
       "\n",
       "                                      Tags  \\\n",
       "0                        <sql><postgresql>   \n",
       "1              <git><authentication><fork>   \n",
       "2             <c++><c><gcc><linker><clang>   \n",
       "3  <python-3.x><string><tuples><typeerror>   \n",
       "4                                <r><proc>   \n",
       "\n",
       "                                               Title  Score  ViewCount  \n",
       "0                        Printing series in postgres      2         10  \n",
       "1   Can't push to forked repo, authentication failed      1         11  \n",
       "2  When mixing C and C++ code, does main() need t...      4         51  \n",
       "3  TypeError: type.__new__() argument 2 must be t...      1         38  \n",
       "4          storing multiple AUC's and CI's in R pROC      1         11  "
      ],
      "text/html": "<div>\n<style scoped>\n    .dataframe tbody tr th:only-of-type {\n        vertical-align: middle;\n    }\n\n    .dataframe tbody tr th {\n        vertical-align: top;\n    }\n\n    .dataframe thead th {\n        text-align: right;\n    }\n</style>\n<table border=\"1\" class=\"dataframe\">\n  <thead>\n    <tr style=\"text-align: right;\">\n      <th></th>\n      <th>CreationDate</th>\n      <th>Body</th>\n      <th>Tags</th>\n      <th>Title</th>\n      <th>Score</th>\n      <th>ViewCount</th>\n    </tr>\n  </thead>\n  <tbody>\n    <tr>\n      <th>0</th>\n      <td>2021-02-14 05:06:49</td>\n      <td>&lt;p&gt;I am a beginner in Postgres and I want to p...</td>\n      <td>&lt;sql&gt;&lt;postgresql&gt;</td>\n      <td>Printing series in postgres</td>\n      <td>2</td>\n      <td>10</td>\n    </tr>\n    <tr>\n      <th>1</th>\n      <td>2021-02-14 03:44:31</td>\n      <td>&lt;p&gt;So I forked public repo &lt;a href=\"https://gi...</td>\n      <td>&lt;git&gt;&lt;authentication&gt;&lt;fork&gt;</td>\n      <td>Can't push to forked repo, authentication failed</td>\n      <td>1</td>\n      <td>11</td>\n    </tr>\n    <tr>\n      <th>2</th>\n      <td>2021-02-14 03:32:04</td>\n      <td>&lt;p&gt;I have a C program that I need to interface...</td>\n      <td>&lt;c++&gt;&lt;c&gt;&lt;gcc&gt;&lt;linker&gt;&lt;clang&gt;</td>\n      <td>When mixing C and C++ code, does main() need t...</td>\n      <td>4</td>\n      <td>51</td>\n    </tr>\n    <tr>\n      <th>3</th>\n      <td>2021-02-14 02:44:35</td>\n      <td>&lt;p&gt;I get the following error when I run the pi...</td>\n      <td>&lt;python-3.x&gt;&lt;string&gt;&lt;tuples&gt;&lt;typeerror&gt;</td>\n      <td>TypeError: type.__new__() argument 2 must be t...</td>\n      <td>1</td>\n      <td>38</td>\n    </tr>\n    <tr>\n      <th>4</th>\n      <td>2021-02-14 02:43:28</td>\n      <td>&lt;p&gt;Is there a way to optimize visualization ac...</td>\n      <td>&lt;r&gt;&lt;proc&gt;</td>\n      <td>storing multiple AUC's and CI's in R pROC</td>\n      <td>1</td>\n      <td>11</td>\n    </tr>\n  </tbody>\n</table>\n</div>"
     },
     "metadata": {},
     "execution_count": 5
    }
   ],
   "source": [
    "data_full.head()"
   ]
  },
  {
   "cell_type": "code",
   "execution_count": 6,
   "metadata": {},
   "outputs": [
    {
     "output_type": "stream",
     "name": "stdout",
     "text": [
      "<class 'pandas.core.frame.DataFrame'>\nRangeIndex: 200000 entries, 0 to 199999\nData columns (total 6 columns):\n #   Column        Non-Null Count   Dtype \n---  ------        --------------   ----- \n 0   CreationDate  200000 non-null  object\n 1   Body          200000 non-null  object\n 2   Tags          200000 non-null  object\n 3   Title         200000 non-null  object\n 4   Score         200000 non-null  int64 \n 5   ViewCount     200000 non-null  int64 \ndtypes: int64(2), object(4)\nmemory usage: 9.2+ MB\n"
     ]
    }
   ],
   "source": [
    "data_full.info()"
   ]
  },
  {
   "cell_type": "code",
   "execution_count": null,
   "metadata": {},
   "outputs": [],
   "source": [
    "# The datas are using 10.7MB of the RAM."
   ]
  },
  {
   "cell_type": "code",
   "execution_count": 7,
   "metadata": {},
   "outputs": [
    {
     "output_type": "execute_result",
     "data": {
      "text/plain": [
       "0                          [sql, postgresql]\n",
       "1                [git, authentication, fork]\n",
       "2               [c++, c, gcc, linker, clang]\n",
       "3    [python-3.x, string, tuples, typeerror]\n",
       "4                                  [r, proc]\n",
       "Name: tags_clean, dtype: object"
      ]
     },
     "metadata": {},
     "execution_count": 7
    }
   ],
   "source": [
    "# Clean the '<' and '>' for each tag\n",
    "\n",
    "tags_full = [doc.lower().replace('<','').replace('>', ',')[:-1].split(',') for doc in data_full['Tags']]\n",
    "data_full['tags_clean'] = tags_full\n",
    "data_full['tags_clean'].head()"
   ]
  },
  {
   "cell_type": "code",
   "execution_count": 8,
   "metadata": {},
   "outputs": [],
   "source": [
    "# Count the frequence of each tag\n",
    "\n",
    "list_of_tags = []\n",
    "for i in range(len(data_full.tags_clean)):\n",
    "    list_of_tags += data_full.tags_clean[i]\n",
    "\n",
    "counter = Counter(list_of_tags)\n",
    "\n",
    "tmp_full = pd.DataFrame({\n",
    "    'tag': list(counter.keys()),\n",
    "    'freq': list(counter.values())\n",
    "}).sort_values(by='freq', ascending=False).reset_index(drop=True)"
   ]
  },
  {
   "cell_type": "code",
   "execution_count": 9,
   "metadata": {},
   "outputs": [
    {
     "output_type": "execute_result",
     "data": {
      "text/plain": [
       "                     tag   freq\n",
       "0                 python  27574\n",
       "1             javascript  18084\n",
       "2                   java  13997\n",
       "3                android  10288\n",
       "4                     c#   9073\n",
       "...                  ...    ...\n",
       "25014         lavfilters      1\n",
       "25015        oracle-home      1\n",
       "25016    capybara-webkit      1\n",
       "25017   database-cleaner      1\n",
       "25018  aspx-user-control      1\n",
       "\n",
       "[25019 rows x 2 columns]"
      ],
      "text/html": "<div>\n<style scoped>\n    .dataframe tbody tr th:only-of-type {\n        vertical-align: middle;\n    }\n\n    .dataframe tbody tr th {\n        vertical-align: top;\n    }\n\n    .dataframe thead th {\n        text-align: right;\n    }\n</style>\n<table border=\"1\" class=\"dataframe\">\n  <thead>\n    <tr style=\"text-align: right;\">\n      <th></th>\n      <th>tag</th>\n      <th>freq</th>\n    </tr>\n  </thead>\n  <tbody>\n    <tr>\n      <th>0</th>\n      <td>python</td>\n      <td>27574</td>\n    </tr>\n    <tr>\n      <th>1</th>\n      <td>javascript</td>\n      <td>18084</td>\n    </tr>\n    <tr>\n      <th>2</th>\n      <td>java</td>\n      <td>13997</td>\n    </tr>\n    <tr>\n      <th>3</th>\n      <td>android</td>\n      <td>10288</td>\n    </tr>\n    <tr>\n      <th>4</th>\n      <td>c#</td>\n      <td>9073</td>\n    </tr>\n    <tr>\n      <th>...</th>\n      <td>...</td>\n      <td>...</td>\n    </tr>\n    <tr>\n      <th>25014</th>\n      <td>lavfilters</td>\n      <td>1</td>\n    </tr>\n    <tr>\n      <th>25015</th>\n      <td>oracle-home</td>\n      <td>1</td>\n    </tr>\n    <tr>\n      <th>25016</th>\n      <td>capybara-webkit</td>\n      <td>1</td>\n    </tr>\n    <tr>\n      <th>25017</th>\n      <td>database-cleaner</td>\n      <td>1</td>\n    </tr>\n    <tr>\n      <th>25018</th>\n      <td>aspx-user-control</td>\n      <td>1</td>\n    </tr>\n  </tbody>\n</table>\n<p>25019 rows × 2 columns</p>\n</div>"
     },
     "metadata": {},
     "execution_count": 9
    }
   ],
   "source": [
    "tmp_full"
   ]
  },
  {
   "cell_type": "code",
   "execution_count": 46,
   "metadata": {},
   "outputs": [
    {
     "output_type": "display_data",
     "data": {
      "application/vnd.plotly.v1+json": {
       "config": {
        "plotlyServerURL": "https://plot.ly"
       },
       "data": [
        {
         "alignmentgroup": "True",
         "hovertemplate": "freq=%{marker.color}<br>tag=%{y}<extra></extra>",
         "legendgroup": "",
         "marker": {
          "color": [
           3874,
           4179,
           4294,
           4423,
           4821,
           5229,
           5339,
           5344,
           5491,
           5543,
           5557,
           6050,
           7963,
           8098,
           8546,
           9073,
           10288,
           13997,
           18084,
           27574
          ],
          "coloraxis": "coloraxis"
         },
         "name": "",
         "offsetgroup": "",
         "orientation": "h",
         "showlegend": false,
         "textposition": "auto",
         "type": "bar",
         "x": [
          3874,
          4179,
          4294,
          4423,
          4821,
          5229,
          5339,
          5344,
          5491,
          5543,
          5557,
          6050,
          7963,
          8098,
          8546,
          9073,
          10288,
          13997,
          18084,
          27574
         ],
         "xaxis": "x",
         "y": [
          "docker",
          "css",
          "typescript",
          "php",
          "pandas",
          "flutter",
          "swift",
          "node.js",
          "ios",
          "html",
          "angular",
          "python-3.x",
          "reactjs",
          "r",
          "c++",
          "c#",
          "android",
          "java",
          "javascript",
          "python"
         ],
         "yaxis": "y"
        }
       ],
       "layout": {
        "barmode": "relative",
        "coloraxis": {
         "colorbar": {
          "title": {
           "text": "freq"
          }
         },
         "colorscale": [
          [
           0,
           "#0d0887"
          ],
          [
           0.1111111111111111,
           "#46039f"
          ],
          [
           0.2222222222222222,
           "#7201a8"
          ],
          [
           0.3333333333333333,
           "#9c179e"
          ],
          [
           0.4444444444444444,
           "#bd3786"
          ],
          [
           0.5555555555555556,
           "#d8576b"
          ],
          [
           0.6666666666666666,
           "#ed7953"
          ],
          [
           0.7777777777777778,
           "#fb9f3a"
          ],
          [
           0.8888888888888888,
           "#fdca26"
          ],
          [
           1,
           "#f0f921"
          ]
         ]
        },
        "height": 550,
        "legend": {
         "tracegroupgap": 0
        },
        "template": {
         "data": {
          "bar": [
           {
            "error_x": {
             "color": "#2a3f5f"
            },
            "error_y": {
             "color": "#2a3f5f"
            },
            "marker": {
             "line": {
              "color": "#E5ECF6",
              "width": 0.5
             }
            },
            "type": "bar"
           }
          ],
          "barpolar": [
           {
            "marker": {
             "line": {
              "color": "#E5ECF6",
              "width": 0.5
             }
            },
            "type": "barpolar"
           }
          ],
          "carpet": [
           {
            "aaxis": {
             "endlinecolor": "#2a3f5f",
             "gridcolor": "white",
             "linecolor": "white",
             "minorgridcolor": "white",
             "startlinecolor": "#2a3f5f"
            },
            "baxis": {
             "endlinecolor": "#2a3f5f",
             "gridcolor": "white",
             "linecolor": "white",
             "minorgridcolor": "white",
             "startlinecolor": "#2a3f5f"
            },
            "type": "carpet"
           }
          ],
          "choropleth": [
           {
            "colorbar": {
             "outlinewidth": 0,
             "ticks": ""
            },
            "type": "choropleth"
           }
          ],
          "contour": [
           {
            "colorbar": {
             "outlinewidth": 0,
             "ticks": ""
            },
            "colorscale": [
             [
              0,
              "#0d0887"
             ],
             [
              0.1111111111111111,
              "#46039f"
             ],
             [
              0.2222222222222222,
              "#7201a8"
             ],
             [
              0.3333333333333333,
              "#9c179e"
             ],
             [
              0.4444444444444444,
              "#bd3786"
             ],
             [
              0.5555555555555556,
              "#d8576b"
             ],
             [
              0.6666666666666666,
              "#ed7953"
             ],
             [
              0.7777777777777778,
              "#fb9f3a"
             ],
             [
              0.8888888888888888,
              "#fdca26"
             ],
             [
              1,
              "#f0f921"
             ]
            ],
            "type": "contour"
           }
          ],
          "contourcarpet": [
           {
            "colorbar": {
             "outlinewidth": 0,
             "ticks": ""
            },
            "type": "contourcarpet"
           }
          ],
          "heatmap": [
           {
            "colorbar": {
             "outlinewidth": 0,
             "ticks": ""
            },
            "colorscale": [
             [
              0,
              "#0d0887"
             ],
             [
              0.1111111111111111,
              "#46039f"
             ],
             [
              0.2222222222222222,
              "#7201a8"
             ],
             [
              0.3333333333333333,
              "#9c179e"
             ],
             [
              0.4444444444444444,
              "#bd3786"
             ],
             [
              0.5555555555555556,
              "#d8576b"
             ],
             [
              0.6666666666666666,
              "#ed7953"
             ],
             [
              0.7777777777777778,
              "#fb9f3a"
             ],
             [
              0.8888888888888888,
              "#fdca26"
             ],
             [
              1,
              "#f0f921"
             ]
            ],
            "type": "heatmap"
           }
          ],
          "heatmapgl": [
           {
            "colorbar": {
             "outlinewidth": 0,
             "ticks": ""
            },
            "colorscale": [
             [
              0,
              "#0d0887"
             ],
             [
              0.1111111111111111,
              "#46039f"
             ],
             [
              0.2222222222222222,
              "#7201a8"
             ],
             [
              0.3333333333333333,
              "#9c179e"
             ],
             [
              0.4444444444444444,
              "#bd3786"
             ],
             [
              0.5555555555555556,
              "#d8576b"
             ],
             [
              0.6666666666666666,
              "#ed7953"
             ],
             [
              0.7777777777777778,
              "#fb9f3a"
             ],
             [
              0.8888888888888888,
              "#fdca26"
             ],
             [
              1,
              "#f0f921"
             ]
            ],
            "type": "heatmapgl"
           }
          ],
          "histogram": [
           {
            "marker": {
             "colorbar": {
              "outlinewidth": 0,
              "ticks": ""
             }
            },
            "type": "histogram"
           }
          ],
          "histogram2d": [
           {
            "colorbar": {
             "outlinewidth": 0,
             "ticks": ""
            },
            "colorscale": [
             [
              0,
              "#0d0887"
             ],
             [
              0.1111111111111111,
              "#46039f"
             ],
             [
              0.2222222222222222,
              "#7201a8"
             ],
             [
              0.3333333333333333,
              "#9c179e"
             ],
             [
              0.4444444444444444,
              "#bd3786"
             ],
             [
              0.5555555555555556,
              "#d8576b"
             ],
             [
              0.6666666666666666,
              "#ed7953"
             ],
             [
              0.7777777777777778,
              "#fb9f3a"
             ],
             [
              0.8888888888888888,
              "#fdca26"
             ],
             [
              1,
              "#f0f921"
             ]
            ],
            "type": "histogram2d"
           }
          ],
          "histogram2dcontour": [
           {
            "colorbar": {
             "outlinewidth": 0,
             "ticks": ""
            },
            "colorscale": [
             [
              0,
              "#0d0887"
             ],
             [
              0.1111111111111111,
              "#46039f"
             ],
             [
              0.2222222222222222,
              "#7201a8"
             ],
             [
              0.3333333333333333,
              "#9c179e"
             ],
             [
              0.4444444444444444,
              "#bd3786"
             ],
             [
              0.5555555555555556,
              "#d8576b"
             ],
             [
              0.6666666666666666,
              "#ed7953"
             ],
             [
              0.7777777777777778,
              "#fb9f3a"
             ],
             [
              0.8888888888888888,
              "#fdca26"
             ],
             [
              1,
              "#f0f921"
             ]
            ],
            "type": "histogram2dcontour"
           }
          ],
          "mesh3d": [
           {
            "colorbar": {
             "outlinewidth": 0,
             "ticks": ""
            },
            "type": "mesh3d"
           }
          ],
          "parcoords": [
           {
            "line": {
             "colorbar": {
              "outlinewidth": 0,
              "ticks": ""
             }
            },
            "type": "parcoords"
           }
          ],
          "pie": [
           {
            "automargin": true,
            "type": "pie"
           }
          ],
          "scatter": [
           {
            "marker": {
             "colorbar": {
              "outlinewidth": 0,
              "ticks": ""
             }
            },
            "type": "scatter"
           }
          ],
          "scatter3d": [
           {
            "line": {
             "colorbar": {
              "outlinewidth": 0,
              "ticks": ""
             }
            },
            "marker": {
             "colorbar": {
              "outlinewidth": 0,
              "ticks": ""
             }
            },
            "type": "scatter3d"
           }
          ],
          "scattercarpet": [
           {
            "marker": {
             "colorbar": {
              "outlinewidth": 0,
              "ticks": ""
             }
            },
            "type": "scattercarpet"
           }
          ],
          "scattergeo": [
           {
            "marker": {
             "colorbar": {
              "outlinewidth": 0,
              "ticks": ""
             }
            },
            "type": "scattergeo"
           }
          ],
          "scattergl": [
           {
            "marker": {
             "colorbar": {
              "outlinewidth": 0,
              "ticks": ""
             }
            },
            "type": "scattergl"
           }
          ],
          "scattermapbox": [
           {
            "marker": {
             "colorbar": {
              "outlinewidth": 0,
              "ticks": ""
             }
            },
            "type": "scattermapbox"
           }
          ],
          "scatterpolar": [
           {
            "marker": {
             "colorbar": {
              "outlinewidth": 0,
              "ticks": ""
             }
            },
            "type": "scatterpolar"
           }
          ],
          "scatterpolargl": [
           {
            "marker": {
             "colorbar": {
              "outlinewidth": 0,
              "ticks": ""
             }
            },
            "type": "scatterpolargl"
           }
          ],
          "scatterternary": [
           {
            "marker": {
             "colorbar": {
              "outlinewidth": 0,
              "ticks": ""
             }
            },
            "type": "scatterternary"
           }
          ],
          "surface": [
           {
            "colorbar": {
             "outlinewidth": 0,
             "ticks": ""
            },
            "colorscale": [
             [
              0,
              "#0d0887"
             ],
             [
              0.1111111111111111,
              "#46039f"
             ],
             [
              0.2222222222222222,
              "#7201a8"
             ],
             [
              0.3333333333333333,
              "#9c179e"
             ],
             [
              0.4444444444444444,
              "#bd3786"
             ],
             [
              0.5555555555555556,
              "#d8576b"
             ],
             [
              0.6666666666666666,
              "#ed7953"
             ],
             [
              0.7777777777777778,
              "#fb9f3a"
             ],
             [
              0.8888888888888888,
              "#fdca26"
             ],
             [
              1,
              "#f0f921"
             ]
            ],
            "type": "surface"
           }
          ],
          "table": [
           {
            "cells": {
             "fill": {
              "color": "#EBF0F8"
             },
             "line": {
              "color": "white"
             }
            },
            "header": {
             "fill": {
              "color": "#C8D4E3"
             },
             "line": {
              "color": "white"
             }
            },
            "type": "table"
           }
          ]
         },
         "layout": {
          "annotationdefaults": {
           "arrowcolor": "#2a3f5f",
           "arrowhead": 0,
           "arrowwidth": 1
          },
          "autotypenumbers": "strict",
          "coloraxis": {
           "colorbar": {
            "outlinewidth": 0,
            "ticks": ""
           }
          },
          "colorscale": {
           "diverging": [
            [
             0,
             "#8e0152"
            ],
            [
             0.1,
             "#c51b7d"
            ],
            [
             0.2,
             "#de77ae"
            ],
            [
             0.3,
             "#f1b6da"
            ],
            [
             0.4,
             "#fde0ef"
            ],
            [
             0.5,
             "#f7f7f7"
            ],
            [
             0.6,
             "#e6f5d0"
            ],
            [
             0.7,
             "#b8e186"
            ],
            [
             0.8,
             "#7fbc41"
            ],
            [
             0.9,
             "#4d9221"
            ],
            [
             1,
             "#276419"
            ]
           ],
           "sequential": [
            [
             0,
             "#0d0887"
            ],
            [
             0.1111111111111111,
             "#46039f"
            ],
            [
             0.2222222222222222,
             "#7201a8"
            ],
            [
             0.3333333333333333,
             "#9c179e"
            ],
            [
             0.4444444444444444,
             "#bd3786"
            ],
            [
             0.5555555555555556,
             "#d8576b"
            ],
            [
             0.6666666666666666,
             "#ed7953"
            ],
            [
             0.7777777777777778,
             "#fb9f3a"
            ],
            [
             0.8888888888888888,
             "#fdca26"
            ],
            [
             1,
             "#f0f921"
            ]
           ],
           "sequentialminus": [
            [
             0,
             "#0d0887"
            ],
            [
             0.1111111111111111,
             "#46039f"
            ],
            [
             0.2222222222222222,
             "#7201a8"
            ],
            [
             0.3333333333333333,
             "#9c179e"
            ],
            [
             0.4444444444444444,
             "#bd3786"
            ],
            [
             0.5555555555555556,
             "#d8576b"
            ],
            [
             0.6666666666666666,
             "#ed7953"
            ],
            [
             0.7777777777777778,
             "#fb9f3a"
            ],
            [
             0.8888888888888888,
             "#fdca26"
            ],
            [
             1,
             "#f0f921"
            ]
           ]
          },
          "colorway": [
           "#636efa",
           "#EF553B",
           "#00cc96",
           "#ab63fa",
           "#FFA15A",
           "#19d3f3",
           "#FF6692",
           "#B6E880",
           "#FF97FF",
           "#FECB52"
          ],
          "font": {
           "color": "#2a3f5f"
          },
          "geo": {
           "bgcolor": "white",
           "lakecolor": "white",
           "landcolor": "#E5ECF6",
           "showlakes": true,
           "showland": true,
           "subunitcolor": "white"
          },
          "hoverlabel": {
           "align": "left"
          },
          "hovermode": "closest",
          "mapbox": {
           "style": "light"
          },
          "paper_bgcolor": "white",
          "plot_bgcolor": "#E5ECF6",
          "polar": {
           "angularaxis": {
            "gridcolor": "white",
            "linecolor": "white",
            "ticks": ""
           },
           "bgcolor": "#E5ECF6",
           "radialaxis": {
            "gridcolor": "white",
            "linecolor": "white",
            "ticks": ""
           }
          },
          "scene": {
           "xaxis": {
            "backgroundcolor": "#E5ECF6",
            "gridcolor": "white",
            "gridwidth": 2,
            "linecolor": "white",
            "showbackground": true,
            "ticks": "",
            "zerolinecolor": "white"
           },
           "yaxis": {
            "backgroundcolor": "#E5ECF6",
            "gridcolor": "white",
            "gridwidth": 2,
            "linecolor": "white",
            "showbackground": true,
            "ticks": "",
            "zerolinecolor": "white"
           },
           "zaxis": {
            "backgroundcolor": "#E5ECF6",
            "gridcolor": "white",
            "gridwidth": 2,
            "linecolor": "white",
            "showbackground": true,
            "ticks": "",
            "zerolinecolor": "white"
           }
          },
          "shapedefaults": {
           "line": {
            "color": "#2a3f5f"
           }
          },
          "ternary": {
           "aaxis": {
            "gridcolor": "white",
            "linecolor": "white",
            "ticks": ""
           },
           "baxis": {
            "gridcolor": "white",
            "linecolor": "white",
            "ticks": ""
           },
           "bgcolor": "#E5ECF6",
           "caxis": {
            "gridcolor": "white",
            "linecolor": "white",
            "ticks": ""
           }
          },
          "title": {
           "x": 0.05
          },
          "xaxis": {
           "automargin": true,
           "gridcolor": "white",
           "linecolor": "white",
           "ticks": "",
           "title": {
            "standoff": 15
           },
           "zerolinecolor": "white",
           "zerolinewidth": 2
          },
          "yaxis": {
           "automargin": true,
           "gridcolor": "white",
           "linecolor": "white",
           "ticks": "",
           "title": {
            "standoff": 15
           },
           "zerolinecolor": "white",
           "zerolinewidth": 2
          }
         }
        },
        "title": {
         "text": "Tags frequency (top 20)"
        },
        "width": 1000,
        "xaxis": {
         "anchor": "y",
         "domain": [
          0,
          1
         ],
         "title": {
          "text": "freq"
         }
        },
        "yaxis": {
         "anchor": "x",
         "domain": [
          0,
          1
         ],
         "title": {
          "text": "tag"
         }
        }
       }
      }
     },
     "metadata": {}
    }
   ],
   "source": [
    "fig = px.bar(\n",
    "    tmp_full[:20],\n",
    "    x='freq',\n",
    "    y='tag',\n",
    "    color='freq',\n",
    "    labels={'x':'Tag', 'y':'Frequency'},\n",
    "    title='Tags frequency (top 20)',\n",
    "    height=550,\n",
    "    width=1000\n",
    "    )\n",
    "fig.show()"
   ]
  },
  {
   "cell_type": "code",
   "execution_count": 16,
   "metadata": {},
   "outputs": [
    {
     "output_type": "execute_result",
     "data": {
      "text/plain": [
       "0"
      ]
     },
     "metadata": {},
     "execution_count": 16
    }
   ],
   "source": [
    "# Check if each row represent a unique tag\n",
    "len(tmp_full) - len(tmp_full['tag'].unique())"
   ]
  },
  {
   "cell_type": "code",
   "execution_count": 17,
   "metadata": {},
   "outputs": [
    {
     "output_type": "execute_result",
     "data": {
      "text/plain": [
       "647015"
      ]
     },
     "metadata": {},
     "execution_count": 17
    }
   ],
   "source": [
    "# Total frequency\n",
    "tmp_full['freq'].sum()"
   ]
  },
  {
   "cell_type": "code",
   "execution_count": 16,
   "metadata": {},
   "outputs": [],
   "source": [
    "# Calculation of frequency as a percentage\n",
    "tmp_full['freq_percent'] = tmp_full['freq'] / tmp_full['freq'].sum() * 100"
   ]
  },
  {
   "cell_type": "code",
   "execution_count": 17,
   "metadata": {},
   "outputs": [
    {
     "output_type": "execute_result",
     "data": {
      "text/plain": [
       "                     tag   freq  freq_percent\n",
       "0                 python  27574      4.261725\n",
       "1             javascript  18084      2.794989\n",
       "2                   java  13997      2.163319\n",
       "3                android  10288      1.590071\n",
       "4                     c#   9073      1.402286\n",
       "...                  ...    ...           ...\n",
       "25014         lavfilters      1      0.000155\n",
       "25015        oracle-home      1      0.000155\n",
       "25016    capybara-webkit      1      0.000155\n",
       "25017   database-cleaner      1      0.000155\n",
       "25018  aspx-user-control      1      0.000155\n",
       "\n",
       "[25019 rows x 3 columns]"
      ],
      "text/html": "<div>\n<style scoped>\n    .dataframe tbody tr th:only-of-type {\n        vertical-align: middle;\n    }\n\n    .dataframe tbody tr th {\n        vertical-align: top;\n    }\n\n    .dataframe thead th {\n        text-align: right;\n    }\n</style>\n<table border=\"1\" class=\"dataframe\">\n  <thead>\n    <tr style=\"text-align: right;\">\n      <th></th>\n      <th>tag</th>\n      <th>freq</th>\n      <th>freq_percent</th>\n    </tr>\n  </thead>\n  <tbody>\n    <tr>\n      <th>0</th>\n      <td>python</td>\n      <td>27574</td>\n      <td>4.261725</td>\n    </tr>\n    <tr>\n      <th>1</th>\n      <td>javascript</td>\n      <td>18084</td>\n      <td>2.794989</td>\n    </tr>\n    <tr>\n      <th>2</th>\n      <td>java</td>\n      <td>13997</td>\n      <td>2.163319</td>\n    </tr>\n    <tr>\n      <th>3</th>\n      <td>android</td>\n      <td>10288</td>\n      <td>1.590071</td>\n    </tr>\n    <tr>\n      <th>4</th>\n      <td>c#</td>\n      <td>9073</td>\n      <td>1.402286</td>\n    </tr>\n    <tr>\n      <th>...</th>\n      <td>...</td>\n      <td>...</td>\n      <td>...</td>\n    </tr>\n    <tr>\n      <th>25014</th>\n      <td>lavfilters</td>\n      <td>1</td>\n      <td>0.000155</td>\n    </tr>\n    <tr>\n      <th>25015</th>\n      <td>oracle-home</td>\n      <td>1</td>\n      <td>0.000155</td>\n    </tr>\n    <tr>\n      <th>25016</th>\n      <td>capybara-webkit</td>\n      <td>1</td>\n      <td>0.000155</td>\n    </tr>\n    <tr>\n      <th>25017</th>\n      <td>database-cleaner</td>\n      <td>1</td>\n      <td>0.000155</td>\n    </tr>\n    <tr>\n      <th>25018</th>\n      <td>aspx-user-control</td>\n      <td>1</td>\n      <td>0.000155</td>\n    </tr>\n  </tbody>\n</table>\n<p>25019 rows × 3 columns</p>\n</div>"
     },
     "metadata": {},
     "execution_count": 17
    }
   ],
   "source": [
    "tmp_full"
   ]
  },
  {
   "cell_type": "code",
   "execution_count": 18,
   "metadata": {},
   "outputs": [],
   "source": [
    "def number_of_tag_percent_represatation(series_of_freq, percent):\n",
    "\n",
    "    compteur = 0\n",
    "    nombre_tags = 0\n",
    "\n",
    "    while (compteur < len(series_of_freq)):\n",
    "        if(series_of_freq.cumsum()[compteur] < percent):\n",
    "            compteur += 1\n",
    "        else:\n",
    "            nombre_tags = compteur\n",
    "            #fin du while\n",
    "            break\n",
    "\n",
    "    return(nombre_tags)"
   ]
  },
  {
   "cell_type": "code",
   "execution_count": 19,
   "metadata": {},
   "outputs": [
    {
     "output_type": "execute_result",
     "data": {
      "text/plain": [
       "748"
      ]
     },
     "metadata": {},
     "execution_count": 19
    }
   ],
   "source": [
    "number_of_tag_percent_represatation(tmp_full['freq_percent'], 70)"
   ]
  },
  {
   "cell_type": "code",
   "execution_count": null,
   "metadata": {},
   "outputs": [],
   "source": [
    "'''\n",
    "748 tags represent 70% of the most frequent tags in the dataset.\n",
    "24271 tags can be ignored (they contain low informations).\n",
    "'''"
   ]
  },
  {
   "cell_type": "code",
   "execution_count": 20,
   "metadata": {},
   "outputs": [
    {
     "output_type": "execute_result",
     "data": {
      "text/plain": [
       "              tag   freq  freq_percent\n",
       "0          python  27574      4.261725\n",
       "1      javascript  18084      2.794989\n",
       "2            java  13997      2.163319\n",
       "3         android  10288      1.590071\n",
       "4              c#   9073      1.402286\n",
       "..            ...    ...           ...\n",
       "291           ftp    282      0.043585\n",
       "292       promise    282      0.043585\n",
       "293       eclipse    280      0.043276\n",
       "294  installation    280      0.043276\n",
       "295    windows-10    276      0.042657\n",
       "\n",
       "[296 rows x 3 columns]"
      ],
      "text/html": "<div>\n<style scoped>\n    .dataframe tbody tr th:only-of-type {\n        vertical-align: middle;\n    }\n\n    .dataframe tbody tr th {\n        vertical-align: top;\n    }\n\n    .dataframe thead th {\n        text-align: right;\n    }\n</style>\n<table border=\"1\" class=\"dataframe\">\n  <thead>\n    <tr style=\"text-align: right;\">\n      <th></th>\n      <th>tag</th>\n      <th>freq</th>\n      <th>freq_percent</th>\n    </tr>\n  </thead>\n  <tbody>\n    <tr>\n      <th>0</th>\n      <td>python</td>\n      <td>27574</td>\n      <td>4.261725</td>\n    </tr>\n    <tr>\n      <th>1</th>\n      <td>javascript</td>\n      <td>18084</td>\n      <td>2.794989</td>\n    </tr>\n    <tr>\n      <th>2</th>\n      <td>java</td>\n      <td>13997</td>\n      <td>2.163319</td>\n    </tr>\n    <tr>\n      <th>3</th>\n      <td>android</td>\n      <td>10288</td>\n      <td>1.590071</td>\n    </tr>\n    <tr>\n      <th>4</th>\n      <td>c#</td>\n      <td>9073</td>\n      <td>1.402286</td>\n    </tr>\n    <tr>\n      <th>...</th>\n      <td>...</td>\n      <td>...</td>\n      <td>...</td>\n    </tr>\n    <tr>\n      <th>291</th>\n      <td>ftp</td>\n      <td>282</td>\n      <td>0.043585</td>\n    </tr>\n    <tr>\n      <th>292</th>\n      <td>promise</td>\n      <td>282</td>\n      <td>0.043585</td>\n    </tr>\n    <tr>\n      <th>293</th>\n      <td>eclipse</td>\n      <td>280</td>\n      <td>0.043276</td>\n    </tr>\n    <tr>\n      <th>294</th>\n      <td>installation</td>\n      <td>280</td>\n      <td>0.043276</td>\n    </tr>\n    <tr>\n      <th>295</th>\n      <td>windows-10</td>\n      <td>276</td>\n      <td>0.042657</td>\n    </tr>\n  </tbody>\n</table>\n<p>296 rows × 3 columns</p>\n</div>"
     },
     "metadata": {},
     "execution_count": 20
    }
   ],
   "source": [
    "# Calculation of frequency as a percentage\n",
    "# Here, we are using all the tags, which have a frequency > 1% of the frequency\n",
    "# of the most frequent tag (i.e. python)\n",
    "tmp_full[tmp_full['freq'] > max(tmp_full['freq'])/100]"
   ]
  },
  {
   "cell_type": "code",
   "execution_count": 21,
   "metadata": {},
   "outputs": [
    {
     "output_type": "execute_result",
     "data": {
      "text/plain": [
       "58.27361034906455"
      ]
     },
     "metadata": {},
     "execution_count": 21
    }
   ],
   "source": [
    "tmp_full[tmp_full['freq'] > max(tmp_full['freq'])/100]['freq_percent'].sum()"
   ]
  },
  {
   "cell_type": "code",
   "execution_count": null,
   "metadata": {},
   "outputs": [],
   "source": [
    "'''\n",
    "296 tags represent 58% of the most frequent tags in the dataset.\n",
    "24723 tags can be ignored (they contain low informations).\n",
    "'''"
   ]
  },
  {
   "cell_type": "code",
   "execution_count": 22,
   "metadata": {},
   "outputs": [],
   "source": [
    "# list of the 296 tags, sorted by alphabetic order\n",
    "list_296_tags = sorted(tmp_full[tmp_full['freq'] > max(tmp_full['freq'])/100]['tag'])"
   ]
  },
  {
   "cell_type": "code",
   "execution_count": 26,
   "metadata": {},
   "outputs": [
    {
     "output_type": "execute_result",
     "data": {
      "text/plain": [
       "['.net',\n",
       " '.net-core',\n",
       " 'airflow',\n",
       " 'ajax',\n",
       " 'algorithm',\n",
       " 'amazon-ec2',\n",
       " 'amazon-s3',\n",
       " 'amazon-web-services',\n",
       " 'anaconda',\n",
       " 'android']"
      ]
     },
     "metadata": {},
     "execution_count": 26
    }
   ],
   "source": [
    "list_296_tags[:10]"
   ]
  },
  {
   "cell_type": "code",
   "execution_count": null,
   "metadata": {},
   "outputs": [],
   "source": [
    "#---------------------#"
   ]
  },
  {
   "cell_type": "code",
   "execution_count": 27,
   "metadata": {},
   "outputs": [],
   "source": [
    "# We filter the dataFrame of 200k data:\n",
    "# for each row, if the tag doesn't belong to the 296 most frequent tags\n",
    "# then we delete it"
   ]
  },
  {
   "cell_type": "code",
   "execution_count": 43,
   "metadata": {},
   "outputs": [],
   "source": [
    "liste_index = []\n",
    "\n",
    "for index in range(len(data_full['tags_clean'])):\n",
    "\n",
    "    liste_of_tags = sorted(data_full['tags_clean'][index])\n",
    "\n",
    "    compteur = 0\n",
    "    tags_ok = 0\n",
    "\n",
    "    while compteur < len(list_296_tags):\n",
    "        if(list_296_tags[compteur] == liste_of_tags[tags_ok]):\n",
    "            tags_ok += 1\n",
    "\n",
    "        if(tags_ok == len(liste_of_tags)):\n",
    "            liste_index.append(index)\n",
    "            break\n",
    "\n",
    "        compteur += 1"
   ]
  },
  {
   "cell_type": "code",
   "execution_count": 44,
   "metadata": {},
   "outputs": [
    {
     "output_type": "execute_result",
     "data": {
      "text/plain": [
       "51427"
      ]
     },
     "metadata": {},
     "execution_count": 44
    }
   ],
   "source": [
    "len(liste_index)"
   ]
  },
  {
   "cell_type": "code",
   "execution_count": 45,
   "metadata": {},
   "outputs": [],
   "source": [
    "data_result = data_full.iloc[liste_index].reset_index(drop=True)"
   ]
  },
  {
   "cell_type": "code",
   "execution_count": 46,
   "metadata": {},
   "outputs": [
    {
     "output_type": "execute_result",
     "data": {
      "text/plain": [
       "CreationDate    0\n",
       "Body            0\n",
       "Tags            0\n",
       "Title           0\n",
       "Score           0\n",
       "ViewCount       0\n",
       "tags_clean      0\n",
       "dtype: int64"
      ]
     },
     "metadata": {},
     "execution_count": 46
    }
   ],
   "source": [
    "data_result.isnull().sum()"
   ]
  },
  {
   "cell_type": "code",
   "execution_count": 50,
   "metadata": {},
   "outputs": [
    {
     "output_type": "execute_result",
     "data": {
      "text/plain": [
       "                                                Body  \\\n",
       "0  <p>I am a beginner in Postgres and I want to p...   \n",
       "1  <p>I have been trying to apply a git patch tha...   \n",
       "2  <p>I have a list such that:</p>\\n<p><code>['DY...   \n",
       "3  <p>My company asks every employee to work from...   \n",
       "4  <p>I've spent a few hours on google searching ...   \n",
       "\n",
       "                                               Title               tags_clean  \n",
       "0                        Printing series in postgres        [sql, postgresql]  \n",
       "1  Constructing a patch for either \"git am\" or \"g...                    [git]  \n",
       "2  Is there a python function that can sort a lis...                 [python]  \n",
       "3  Is it possible to show my GitHub contributions...            [git, github]  \n",
       "4  How to determine if values in a datetime colum...  [python, pandas, numpy]  "
      ],
      "text/html": "<div>\n<style scoped>\n    .dataframe tbody tr th:only-of-type {\n        vertical-align: middle;\n    }\n\n    .dataframe tbody tr th {\n        vertical-align: top;\n    }\n\n    .dataframe thead th {\n        text-align: right;\n    }\n</style>\n<table border=\"1\" class=\"dataframe\">\n  <thead>\n    <tr style=\"text-align: right;\">\n      <th></th>\n      <th>Body</th>\n      <th>Title</th>\n      <th>tags_clean</th>\n    </tr>\n  </thead>\n  <tbody>\n    <tr>\n      <th>0</th>\n      <td>&lt;p&gt;I am a beginner in Postgres and I want to p...</td>\n      <td>Printing series in postgres</td>\n      <td>[sql, postgresql]</td>\n    </tr>\n    <tr>\n      <th>1</th>\n      <td>&lt;p&gt;I have been trying to apply a git patch tha...</td>\n      <td>Constructing a patch for either \"git am\" or \"g...</td>\n      <td>[git]</td>\n    </tr>\n    <tr>\n      <th>2</th>\n      <td>&lt;p&gt;I have a list such that:&lt;/p&gt;\\n&lt;p&gt;&lt;code&gt;['DY...</td>\n      <td>Is there a python function that can sort a lis...</td>\n      <td>[python]</td>\n    </tr>\n    <tr>\n      <th>3</th>\n      <td>&lt;p&gt;My company asks every employee to work from...</td>\n      <td>Is it possible to show my GitHub contributions...</td>\n      <td>[git, github]</td>\n    </tr>\n    <tr>\n      <th>4</th>\n      <td>&lt;p&gt;I've spent a few hours on google searching ...</td>\n      <td>How to determine if values in a datetime colum...</td>\n      <td>[python, pandas, numpy]</td>\n    </tr>\n  </tbody>\n</table>\n</div>"
     },
     "metadata": {},
     "execution_count": 50
    }
   ],
   "source": [
    "data_result[['Body', 'Title', 'tags_clean']].head()"
   ]
  },
  {
   "cell_type": "code",
   "execution_count": 52,
   "metadata": {},
   "outputs": [
    {
     "output_type": "stream",
     "name": "stdout",
     "text": [
      "<class 'pandas.core.frame.DataFrame'>\nRangeIndex: 51427 entries, 0 to 51426\nData columns (total 3 columns):\n #   Column      Non-Null Count  Dtype \n---  ------      --------------  ----- \n 0   Body        51427 non-null  object\n 1   Title       51427 non-null  object\n 2   tags_clean  51427 non-null  object\ndtypes: object(3)\nmemory usage: 1.2+ MB\n"
     ]
    }
   ],
   "source": [
    "data_result[['Body', 'Title', 'tags_clean']].info()"
   ]
  },
  {
   "cell_type": "code",
   "execution_count": null,
   "metadata": {},
   "outputs": [],
   "source": [
    "# The new dataFrame is using 1.2 MB of RAM (10.7MB before cleaning)."
   ]
  },
  {
   "cell_type": "code",
   "execution_count": 58,
   "metadata": {},
   "outputs": [],
   "source": [
    "# The new dataFrame is saved\n",
    "# We will use it in order to predict the tags\n",
    "data_result[['Body', 'Title', 'tags_clean']].dropna().reset_index(drop=True).to_csv('data_51k_296_tags.csv')"
   ]
  },
  {
   "cell_type": "code",
   "execution_count": null,
   "metadata": {},
   "outputs": [],
   "source": []
  }
 ]
}